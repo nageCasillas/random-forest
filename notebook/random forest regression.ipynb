{
 "cells": [
  {
   "cell_type": "code",
   "execution_count": 2,
   "id": "8e6af6f6-9396-42af-aa53-b55ff1e6a1ff",
   "metadata": {},
   "outputs": [],
   "source": [
    "import pandas as pd\n",
    "import numpy as np\n",
    "import matplotlib.pyplot as plt"
   ]
  },
  {
   "cell_type": "code",
   "execution_count": 3,
   "id": "4fc9ff15-994e-41a3-ba2a-bacee2c31a39",
   "metadata": {},
   "outputs": [],
   "source": [
    "df = pd.read_csv(\"data/cardekho_dataset.csv\", index_col=[0])"
   ]
  },
  {
   "cell_type": "code",
   "execution_count": 4,
   "id": "bc13d4f0-bc20-440f-ae49-dcae9d276fd5",
   "metadata": {},
   "outputs": [
    {
     "data": {
      "text/html": [
       "<div>\n",
       "<style scoped>\n",
       "    .dataframe tbody tr th:only-of-type {\n",
       "        vertical-align: middle;\n",
       "    }\n",
       "\n",
       "    .dataframe tbody tr th {\n",
       "        vertical-align: top;\n",
       "    }\n",
       "\n",
       "    .dataframe thead th {\n",
       "        text-align: right;\n",
       "    }\n",
       "</style>\n",
       "<table border=\"1\" class=\"dataframe\">\n",
       "  <thead>\n",
       "    <tr style=\"text-align: right;\">\n",
       "      <th></th>\n",
       "      <th>car_name</th>\n",
       "      <th>brand</th>\n",
       "      <th>model</th>\n",
       "      <th>vehicle_age</th>\n",
       "      <th>km_driven</th>\n",
       "      <th>seller_type</th>\n",
       "      <th>fuel_type</th>\n",
       "      <th>transmission_type</th>\n",
       "      <th>mileage</th>\n",
       "      <th>engine</th>\n",
       "      <th>max_power</th>\n",
       "      <th>seats</th>\n",
       "      <th>selling_price</th>\n",
       "    </tr>\n",
       "  </thead>\n",
       "  <tbody>\n",
       "    <tr>\n",
       "      <th>0</th>\n",
       "      <td>Maruti Alto</td>\n",
       "      <td>Maruti</td>\n",
       "      <td>Alto</td>\n",
       "      <td>9</td>\n",
       "      <td>120000</td>\n",
       "      <td>Individual</td>\n",
       "      <td>Petrol</td>\n",
       "      <td>Manual</td>\n",
       "      <td>19.7</td>\n",
       "      <td>796</td>\n",
       "      <td>46.3</td>\n",
       "      <td>5</td>\n",
       "      <td>120000</td>\n",
       "    </tr>\n",
       "    <tr>\n",
       "      <th>1</th>\n",
       "      <td>Hyundai Grand</td>\n",
       "      <td>Hyundai</td>\n",
       "      <td>Grand</td>\n",
       "      <td>5</td>\n",
       "      <td>20000</td>\n",
       "      <td>Individual</td>\n",
       "      <td>Petrol</td>\n",
       "      <td>Manual</td>\n",
       "      <td>18.9</td>\n",
       "      <td>1197</td>\n",
       "      <td>82.0</td>\n",
       "      <td>5</td>\n",
       "      <td>550000</td>\n",
       "    </tr>\n",
       "  </tbody>\n",
       "</table>\n",
       "</div>"
      ],
      "text/plain": [
       "        car_name    brand  model  vehicle_age  km_driven seller_type  \\\n",
       "0    Maruti Alto   Maruti   Alto            9     120000  Individual   \n",
       "1  Hyundai Grand  Hyundai  Grand            5      20000  Individual   \n",
       "\n",
       "  fuel_type transmission_type  mileage  engine  max_power  seats  \\\n",
       "0    Petrol            Manual     19.7     796       46.3      5   \n",
       "1    Petrol            Manual     18.9    1197       82.0      5   \n",
       "\n",
       "   selling_price  \n",
       "0         120000  \n",
       "1         550000  "
      ]
     },
     "execution_count": 4,
     "metadata": {},
     "output_type": "execute_result"
    }
   ],
   "source": [
    "df.head(2)"
   ]
  },
  {
   "cell_type": "code",
   "execution_count": 5,
   "id": "9f6c4460-89d6-4d3e-bfb7-7ebc4f772061",
   "metadata": {},
   "outputs": [
    {
     "data": {
      "text/plain": [
       "(15411, 13)"
      ]
     },
     "execution_count": 5,
     "metadata": {},
     "output_type": "execute_result"
    }
   ],
   "source": [
    "df.shape"
   ]
  },
  {
   "cell_type": "code",
   "execution_count": 6,
   "id": "7058f22d-763f-4fa7-8239-99c38aed2f01",
   "metadata": {},
   "outputs": [
    {
     "data": {
      "text/plain": [
       "car_name              object\n",
       "brand                 object\n",
       "model                 object\n",
       "vehicle_age            int64\n",
       "km_driven              int64\n",
       "seller_type           object\n",
       "fuel_type             object\n",
       "transmission_type     object\n",
       "mileage              float64\n",
       "engine                 int64\n",
       "max_power            float64\n",
       "seats                  int64\n",
       "selling_price          int64\n",
       "dtype: object"
      ]
     },
     "execution_count": 6,
     "metadata": {},
     "output_type": "execute_result"
    }
   ],
   "source": [
    "df.dtypes"
   ]
  },
  {
   "cell_type": "code",
   "execution_count": 7,
   "id": "2196d5d0-1812-43f9-9c78-c3830dcd80c3",
   "metadata": {},
   "outputs": [
    {
     "data": {
      "text/plain": [
       "car_name             0\n",
       "brand                0\n",
       "model                0\n",
       "vehicle_age          0\n",
       "km_driven            0\n",
       "seller_type          0\n",
       "fuel_type            0\n",
       "transmission_type    0\n",
       "mileage              0\n",
       "engine               0\n",
       "max_power            0\n",
       "seats                0\n",
       "selling_price        0\n",
       "dtype: int64"
      ]
     },
     "execution_count": 7,
     "metadata": {},
     "output_type": "execute_result"
    }
   ],
   "source": [
    "df.isnull().sum()"
   ]
  },
  {
   "cell_type": "code",
   "execution_count": 8,
   "id": "88825391-9ab1-404d-8c79-56ea298213f8",
   "metadata": {},
   "outputs": [],
   "source": [
    "## Remove Unnecessary Columns\n",
    "df.drop('model', axis=1, inplace=True)\n",
    "df.drop('brand', axis=1, inplace=True)"
   ]
  },
  {
   "cell_type": "code",
   "execution_count": 9,
   "id": "042f282e-a260-469a-a3d2-23fd38bb4977",
   "metadata": {},
   "outputs": [
    {
     "data": {
      "text/html": [
       "<div>\n",
       "<style scoped>\n",
       "    .dataframe tbody tr th:only-of-type {\n",
       "        vertical-align: middle;\n",
       "    }\n",
       "\n",
       "    .dataframe tbody tr th {\n",
       "        vertical-align: top;\n",
       "    }\n",
       "\n",
       "    .dataframe thead th {\n",
       "        text-align: right;\n",
       "    }\n",
       "</style>\n",
       "<table border=\"1\" class=\"dataframe\">\n",
       "  <thead>\n",
       "    <tr style=\"text-align: right;\">\n",
       "      <th></th>\n",
       "      <th>car_name</th>\n",
       "      <th>vehicle_age</th>\n",
       "      <th>km_driven</th>\n",
       "      <th>seller_type</th>\n",
       "      <th>fuel_type</th>\n",
       "      <th>transmission_type</th>\n",
       "      <th>mileage</th>\n",
       "      <th>engine</th>\n",
       "      <th>max_power</th>\n",
       "      <th>seats</th>\n",
       "      <th>selling_price</th>\n",
       "    </tr>\n",
       "  </thead>\n",
       "  <tbody>\n",
       "    <tr>\n",
       "      <th>0</th>\n",
       "      <td>Maruti Alto</td>\n",
       "      <td>9</td>\n",
       "      <td>120000</td>\n",
       "      <td>Individual</td>\n",
       "      <td>Petrol</td>\n",
       "      <td>Manual</td>\n",
       "      <td>19.7</td>\n",
       "      <td>796</td>\n",
       "      <td>46.3</td>\n",
       "      <td>5</td>\n",
       "      <td>120000</td>\n",
       "    </tr>\n",
       "    <tr>\n",
       "      <th>1</th>\n",
       "      <td>Hyundai Grand</td>\n",
       "      <td>5</td>\n",
       "      <td>20000</td>\n",
       "      <td>Individual</td>\n",
       "      <td>Petrol</td>\n",
       "      <td>Manual</td>\n",
       "      <td>18.9</td>\n",
       "      <td>1197</td>\n",
       "      <td>82.0</td>\n",
       "      <td>5</td>\n",
       "      <td>550000</td>\n",
       "    </tr>\n",
       "  </tbody>\n",
       "</table>\n",
       "</div>"
      ],
      "text/plain": [
       "        car_name  vehicle_age  km_driven seller_type fuel_type  \\\n",
       "0    Maruti Alto            9     120000  Individual    Petrol   \n",
       "1  Hyundai Grand            5      20000  Individual    Petrol   \n",
       "\n",
       "  transmission_type  mileage  engine  max_power  seats  selling_price  \n",
       "0            Manual     19.7     796       46.3      5         120000  \n",
       "1            Manual     18.9    1197       82.0      5         550000  "
      ]
     },
     "execution_count": 9,
     "metadata": {},
     "output_type": "execute_result"
    }
   ],
   "source": [
    "df.head(2)"
   ]
  },
  {
   "cell_type": "code",
   "execution_count": 10,
   "id": "21fb2e6a-d006-4486-b4bc-2225f5c179e3",
   "metadata": {},
   "outputs": [
    {
     "data": {
      "text/plain": [
       "array(['Maruti Alto', 'Hyundai Grand', 'Hyundai i20', 'Ford Ecosport',\n",
       "       'Maruti Wagon R', 'Hyundai i10', 'Hyundai Venue', 'Maruti Swift',\n",
       "       'Hyundai Verna', 'Renault Duster', 'Mini Cooper', 'Maruti Ciaz',\n",
       "       'Mercedes-Benz C-Class', 'Toyota Innova', 'Maruti Baleno',\n",
       "       'Maruti Swift Dzire', 'Volkswagen Vento', 'Hyundai Creta',\n",
       "       'Honda City', 'Mahindra Bolero', 'Toyota Fortuner', 'Renault KWID',\n",
       "       'Honda Amaze', 'Hyundai Santro', 'Mahindra XUV500',\n",
       "       'Mahindra KUV100', 'Maruti Ignis', 'Datsun RediGO',\n",
       "       'Mahindra Scorpio', 'Mahindra Marazzo', 'Ford Aspire', 'Ford Figo',\n",
       "       'Maruti Vitara', 'Tata Tiago', 'Volkswagen Polo', 'Kia Seltos',\n",
       "       'Maruti Celerio', 'Datsun GO', 'BMW 5', 'Honda CR-V',\n",
       "       'Ford Endeavour', 'Mahindra KUV', 'Honda Jazz', 'BMW 3', 'Audi A4',\n",
       "       'Tata Tigor', 'Maruti Ertiga', 'Tata Safari', 'Mahindra Thar',\n",
       "       'Tata Hexa', 'Land Rover Rover', 'Maruti Eeco', 'Audi A6',\n",
       "       'Mercedes-Benz E-Class', 'Audi Q7', 'BMW Z4', 'BMW 6', 'Jaguar XF',\n",
       "       'BMW X5', 'MG Hector', 'Honda Civic', 'Isuzu D-Max',\n",
       "       'Porsche Cayenne', 'BMW X1', 'Skoda Rapid', 'Ford Freestyle',\n",
       "       'Skoda Superb', 'Tata Nexon', 'Mahindra XUV300',\n",
       "       'Maruti Dzire VXI', 'Volvo S90', 'Honda WR-V', 'Maruti XL6',\n",
       "       'Renault Triber', 'Lexus ES', 'Jeep Wrangler', 'Toyota Camry',\n",
       "       'Hyundai Elantra', 'Toyota Yaris', 'Mercedes-Benz GL-Class',\n",
       "       'BMW 7', 'Maruti S-Presso', 'Maruti Dzire LXI', 'Hyundai Aura',\n",
       "       'Volvo XC', 'Maserati Ghibli', 'Bentley Continental', 'Honda CR',\n",
       "       'Nissan Kicks', 'Mercedes-Benz S-Class', 'Hyundai Tucson',\n",
       "       'Tata Harrier', 'BMW X3', 'Skoda Octavia', 'Jeep Compass',\n",
       "       'Mercedes-Benz CLS', 'Datsun redi-GO', 'Toyota Glanza',\n",
       "       'Porsche Macan', 'BMW X4', 'Maruti Dzire ZXI', 'Volvo XC90',\n",
       "       'Jaguar F-PACE', 'Audi A8', 'ISUZU MUX', 'Ferrari GTC4Lusso',\n",
       "       'Mercedes-Benz GLS', 'Nissan X-Trail', 'Jaguar XE', 'Volvo XC60',\n",
       "       'Porsche Panamera', 'Mahindra Alturas', 'Tata Altroz', 'Lexus NX',\n",
       "       'Kia Carnival', 'Mercedes-AMG C', 'Lexus RX', 'Rolls-Royce Ghost',\n",
       "       'Maserati Quattroporte', 'Isuzu MUX', 'Force Gurkha'], dtype=object)"
      ]
     },
     "execution_count": 10,
     "metadata": {},
     "output_type": "execute_result"
    }
   ],
   "source": [
    "df['car_name'].unique()"
   ]
  },
  {
   "cell_type": "code",
   "execution_count": 11,
   "id": "d1696c38-028c-4b84-81a0-d2a9f383de19",
   "metadata": {},
   "outputs": [
    {
     "data": {
      "text/plain": [
       "121"
      ]
     },
     "execution_count": 11,
     "metadata": {},
     "output_type": "execute_result"
    }
   ],
   "source": [
    "len(df['car_name'].unique())"
   ]
  },
  {
   "cell_type": "code",
   "execution_count": 12,
   "id": "1d725aaa-0ea3-4475-b505-f60d4633f0c8",
   "metadata": {},
   "outputs": [
    {
     "data": {
      "text/plain": [
       "car_name\n",
       "Hyundai i20              906\n",
       "Maruti Swift Dzire       890\n",
       "Maruti Swift             781\n",
       "Maruti Alto              778\n",
       "Honda City               757\n",
       "                        ... \n",
       "Mercedes-AMG C             1\n",
       "Rolls-Royce Ghost          1\n",
       "Maserati Quattroporte      1\n",
       "Isuzu MUX                  1\n",
       "Force Gurkha               1\n",
       "Name: count, Length: 121, dtype: int64"
      ]
     },
     "execution_count": 12,
     "metadata": {},
     "output_type": "execute_result"
    }
   ],
   "source": [
    "df['car_name'].value_counts()"
   ]
  },
  {
   "cell_type": "code",
   "execution_count": 13,
   "id": "31340920-d446-4973-ba33-bfad31b5e786",
   "metadata": {},
   "outputs": [],
   "source": [
    "# Create a copy of the series\n",
    "car_counts = df['car_name'].value_counts()"
   ]
  },
  {
   "cell_type": "code",
   "execution_count": 17,
   "id": "52f87e54",
   "metadata": {},
   "outputs": [
    {
     "name": "stdout",
     "output_type": "stream",
     "text": [
      "car_name\n",
      "Hyundai i20               906\n",
      "Maruti Swift Dzire        890\n",
      "Maruti Swift              781\n",
      "Maruti Alto               778\n",
      "Honda City                757\n",
      "Maruti Wagon R            717\n",
      "Hyundai Grand             580\n",
      "Toyota Innova             545\n",
      "Hyundai Verna             492\n",
      "Hyundai i10               410\n",
      "Ford Ecosport             374\n",
      "Volkswagen Polo           373\n",
      "Maruti Baleno             364\n",
      "Honda Amaze               362\n",
      "Maruti Ciaz               346\n",
      "Maruti Ertiga             343\n",
      "Hyundai Creta             336\n",
      "Mahindra XUV500           330\n",
      "Renault KWID              306\n",
      "Maruti Vitara             295\n",
      "Mahindra Scorpio          273\n",
      "Ford Figo                 271\n",
      "Volkswagen Vento          247\n",
      "Maruti Celerio            237\n",
      "Renault Duster            218\n",
      "Mahindra Bolero           211\n",
      "Toyota Fortuner           187\n",
      "Skoda Rapid               182\n",
      "Honda Jazz                175\n",
      "BMW 3                     152\n",
      "Tata Tiago                145\n",
      "Hyundai Santro            139\n",
      "Mercedes-Benz E-Class     125\n",
      "Maruti Eeco               125\n",
      "Mercedes-Benz C-Class     118\n",
      "BMW 5                     118\n",
      "Honda WR-V                101\n",
      "Tata Safari               100\n",
      "Audi A4                    99\n",
      "Skoda Superb               93\n",
      "Datsun GO                  85\n",
      "Tata Nexon                 85\n",
      "Datsun RediGO              75\n",
      "Maruti Ignis               73\n",
      "Mahindra KUV               66\n",
      "Ford Aspire                65\n",
      "Audi A6                    64\n",
      "Mahindra Thar              62\n",
      "Honda Civic                59\n",
      "Skoda Octavia              59\n",
      "Hyundai Venue              58\n",
      "BMW X1                     54\n",
      "Jaguar XF                  52\n",
      "Land Rover Rover           51\n",
      "Hyundai Elantra            50\n",
      "Ford Endeavour             47\n",
      "Tata Hexa                  41\n",
      "Jeep Compass               39\n",
      "Tata Tigor                 37\n",
      "BMW 7                      37\n",
      "Mercedes-Benz S-Class      37\n",
      "Mercedes-Benz GL-Class     36\n",
      "Toyota Camry               36\n",
      "Ford Freestyle             33\n",
      "Honda CR-V                 28\n",
      "Kia Seltos                 28\n",
      "Mahindra KUV100            27\n",
      "BMW X5                     25\n",
      "Mahindra Marazzo           24\n",
      "BMW X3                     23\n",
      "Audi Q7                    23\n",
      "Tata Harrier               21\n",
      "MG Hector                  19\n",
      "BMW 6                      18\n",
      "Mini Cooper                17\n",
      "Toyota Yaris               17\n",
      "Maruti Dzire VXI           17\n",
      "Porsche Cayenne            16\n",
      "Mahindra XUV300            15\n",
      "Maruti S-Presso            13\n",
      "Mercedes-Benz GLS          12\n",
      "Renault Triber             12\n",
      "Hyundai Tucson             10\n",
      "Datsun redi-GO             10\n",
      "Mercedes-Benz CLS           9\n",
      "Toyota Glanza               8\n",
      "Nissan Kicks                8\n",
      "Maruti XL6                  7\n",
      "Volvo XC                    7\n",
      "Isuzu D-Max                 7\n",
      "BMW Z4                      6\n",
      "Audi A8                     6\n",
      "BMW X4                      6\n",
      "Lexus ES                    6\n",
      "Volvo XC60                  5\n",
      "Volvo S90                   4\n",
      "Jaguar XE                   4\n",
      "Kia Carnival                4\n",
      "Maruti Dzire ZXI            4\n",
      "Volvo XC90                  4\n",
      "Mahindra Alturas            3\n",
      "Bentley Continental         3\n",
      "Honda CR                    3\n",
      "Jaguar F-PACE               3\n",
      "Porsche Panamera            3\n",
      "Nissan X-Trail              3\n",
      "Porsche Macan               2\n",
      "Maruti Dzire LXI            2\n",
      "Jeep Wrangler               2\n",
      "Lexus RX                    2\n",
      "Lexus NX                    2\n",
      "ISUZU MUX                   2\n",
      "Hyundai Aura                1\n",
      "Maserati Ghibli             1\n",
      "Ferrari GTC4Lusso           1\n",
      "Tata Altroz                 1\n",
      "Mercedes-AMG C              1\n",
      "Rolls-Royce Ghost           1\n",
      "Maserati Quattroporte       1\n",
      "Isuzu MUX                   1\n",
      "Force Gurkha                1\n",
      "Name: count, dtype: int64\n"
     ]
    }
   ],
   "source": [
    "pd.set_option('display.max_rows', None)\n",
    "print(car_counts)"
   ]
  },
  {
   "cell_type": "code",
   "execution_count": 18,
   "id": "72ac92a0-4463-4d10-a9eb-86b593fd89a7",
   "metadata": {
    "scrolled": true
   },
   "outputs": [
    {
     "name": "stdout",
     "output_type": "stream",
     "text": [
      "car_name\n",
      "Hyundai i20               906\n",
      "Maruti Swift Dzire        890\n",
      "Maruti Swift              781\n",
      "Maruti Alto               778\n",
      "Honda City                757\n",
      "Maruti Wagon R            717\n",
      "Hyundai Grand             580\n",
      "Toyota Innova             545\n",
      "Hyundai Verna             492\n",
      "Hyundai i10               410\n",
      "Ford Ecosport             374\n",
      "Volkswagen Polo           373\n",
      "Maruti Baleno             364\n",
      "Honda Amaze               362\n",
      "Maruti Ciaz               346\n",
      "Maruti Ertiga             343\n",
      "Hyundai Creta             336\n",
      "Mahindra XUV500           330\n",
      "Renault KWID              306\n",
      "Maruti Vitara             295\n",
      "Mahindra Scorpio          273\n",
      "Ford Figo                 271\n",
      "Volkswagen Vento          247\n",
      "Maruti Celerio            237\n",
      "Renault Duster            218\n",
      "Mahindra Bolero           211\n",
      "Toyota Fortuner           187\n",
      "Skoda Rapid               182\n",
      "Honda Jazz                175\n",
      "BMW 3                     152\n",
      "Tata Tiago                145\n",
      "Hyundai Santro            139\n",
      "Others                    134\n",
      "Mercedes-Benz E-Class     125\n",
      "Maruti Eeco               125\n",
      "Mercedes-Benz C-Class     118\n",
      "BMW 5                     118\n",
      "Honda WR-V                101\n",
      "Tata Safari               100\n",
      "Audi A4                    99\n",
      "Skoda Superb               93\n",
      "Tata Nexon                 85\n",
      "Datsun GO                  85\n",
      "Datsun RediGO              75\n",
      "Maruti Ignis               73\n",
      "Mahindra KUV               66\n",
      "Ford Aspire                65\n",
      "Audi A6                    64\n",
      "Mahindra Thar              62\n",
      "Honda Civic                59\n",
      "Skoda Octavia              59\n",
      "Hyundai Venue              58\n",
      "BMW X1                     54\n",
      "Jaguar XF                  52\n",
      "Land Rover Rover           51\n",
      "Hyundai Elantra            50\n",
      "Ford Endeavour             47\n",
      "Tata Hexa                  41\n",
      "Jeep Compass               39\n",
      "Mercedes-Benz S-Class      37\n",
      "Tata Tigor                 37\n",
      "BMW 7                      37\n",
      "Toyota Camry               36\n",
      "Mercedes-Benz GL-Class     36\n",
      "Ford Freestyle             33\n",
      "Honda CR-V                 28\n",
      "Kia Seltos                 28\n",
      "Mahindra KUV100            27\n",
      "BMW X5                     25\n",
      "Mahindra Marazzo           24\n",
      "BMW X3                     23\n",
      "Audi Q7                    23\n",
      "Tata Harrier               21\n",
      "MG Hector                  19\n",
      "BMW 6                      18\n",
      "Mini Cooper                17\n",
      "Maruti Dzire VXI           17\n",
      "Toyota Yaris               17\n",
      "Porsche Cayenne            16\n",
      "Mahindra XUV300            15\n",
      "Maruti S-Presso            13\n",
      "Renault Triber             12\n",
      "Mercedes-Benz GLS          12\n",
      "Hyundai Tucson             10\n",
      "Datsun redi-GO             10\n",
      "Name: count, dtype: int64\n"
     ]
    }
   ],
   "source": [
    "df['car_name'] = np.where(df['car_name'].map(car_counts) < 10, 'Others', df['car_name'])\n",
    "print(df['car_name'].value_counts())"
   ]
  },
  {
   "cell_type": "code",
   "execution_count": 22,
   "id": "872b0cdb-b557-4a42-9cc3-34ac4bff78f8",
   "metadata": {},
   "outputs": [],
   "source": [
    "from sklearn.model_selection import train_test_split\n",
    "X = df.drop(['selling_price'], axis=1)\n",
    "y = df['selling_price']"
   ]
  },
  {
   "cell_type": "code",
   "execution_count": 23,
   "id": "263ffd73-e4fc-4e8f-9d65-faaea2fd3537",
   "metadata": {},
   "outputs": [
    {
     "data": {
      "text/plain": [
       "((12328, 10), (3083, 10))"
      ]
     },
     "execution_count": 23,
     "metadata": {},
     "output_type": "execute_result"
    }
   ],
   "source": [
    "# separate dataset into train and test\n",
    "X_train, X_test, y_train, y_test = train_test_split(X,y,test_size=0.2,random_state=42)\n",
    "X_train.shape, X_test.shape"
   ]
  },
  {
   "cell_type": "code",
   "execution_count": 24,
   "id": "c5bf247c-0cd4-48eb-89ce-66ad1dda7b8b",
   "metadata": {},
   "outputs": [],
   "source": [
    "from sklearn.preprocessing import LabelEncoder\n",
    "le=LabelEncoder()\n",
    "X_train['car_name']=le.fit_transform(X_train['car_name'])"
   ]
  },
  {
   "cell_type": "code",
   "execution_count": 25,
   "id": "62f87d0b-8bdd-4ec8-bdd7-7d5fe9a2af9b",
   "metadata": {
    "scrolled": true
   },
   "outputs": [],
   "source": [
    "X_test['car_name']=le.transform(X_test['car_name']) "
   ]
  },
  {
   "cell_type": "code",
   "execution_count": 26,
   "id": "a8b0efd9-601b-4845-b848-bbfaba61ee26",
   "metadata": {},
   "outputs": [
    {
     "data": {
      "text/plain": [
       "(3, 5, 2)"
      ]
     },
     "execution_count": 26,
     "metadata": {},
     "output_type": "execute_result"
    }
   ],
   "source": [
    "len(df['seller_type'].unique()),len(df['fuel_type'].unique()),len(df['transmission_type'].unique())"
   ]
  },
  {
   "cell_type": "code",
   "execution_count": 27,
   "id": "380a6367-8e5f-4ba5-867b-faecb24baa1c",
   "metadata": {},
   "outputs": [],
   "source": [
    "# Create Column Transformer with 3 types of transformers\n",
    "num_features = X.select_dtypes(exclude=\"object\").columns\n",
    "onehot_columns = ['seller_type','fuel_type','transmission_type']\n",
    "\n",
    "from sklearn.preprocessing import OneHotEncoder, StandardScaler\n",
    "from sklearn.compose import ColumnTransformer\n",
    "\n",
    "numeric_transformer = StandardScaler()\n",
    "oh_transformer = OneHotEncoder(drop='first')\n",
    "\n",
    "preprocessor = ColumnTransformer(\n",
    "    [\n",
    "        (\"OneHotEncoder\", oh_transformer, onehot_columns),\n",
    "        (\"StandardScaler\", numeric_transformer, num_features)\n",
    "        \n",
    "    ],remainder='passthrough'\n",
    "    \n",
    ")"
   ]
  },
  {
   "cell_type": "code",
   "execution_count": 28,
   "id": "2fd5ee5c-fdb4-4b0a-a5b3-27ea498e20d2",
   "metadata": {},
   "outputs": [],
   "source": [
    "## applying Trnsformation in training(fit_transform)\n",
    "X_train=preprocessor.fit_transform(X_train)"
   ]
  },
  {
   "cell_type": "code",
   "execution_count": 29,
   "id": "b4a231e5-22c2-4dc4-bdf0-f8a4bce4f2f9",
   "metadata": {},
   "outputs": [],
   "source": [
    "## apply tansformation on test(transform)\n",
    "X_test=preprocessor.transform(X_test)"
   ]
  },
  {
   "cell_type": "code",
   "execution_count": 30,
   "id": "911a4efa-b084-4994-b8bc-899e63bd1121",
   "metadata": {},
   "outputs": [],
   "source": [
    "from sklearn.ensemble import RandomForestRegressor\n",
    "from sklearn.linear_model import LinearRegression, Ridge,Lasso\n",
    "from sklearn.neighbors import KNeighborsRegressor\n",
    "from sklearn.tree import DecisionTreeRegressor\n",
    "from sklearn.metrics import r2_score, mean_absolute_error, mean_squared_error"
   ]
  },
  {
   "cell_type": "code",
   "execution_count": 31,
   "id": "ab6801d3-041d-4be3-9bf4-4be6927dd83f",
   "metadata": {},
   "outputs": [],
   "source": [
    "##Create a Function to Evaluate Model\n",
    "def evaluate_model(true, predicted):\n",
    "    mae = mean_absolute_error(true, predicted)\n",
    "    mse = mean_squared_error(true, predicted)\n",
    "    rmse = np.sqrt(mean_squared_error(true, predicted))\n",
    "    r2_square = r2_score(true, predicted)\n",
    "    return mae, rmse, r2_square"
   ]
  },
  {
   "cell_type": "code",
   "execution_count": 32,
   "id": "ca4b674e-1e33-42b9-bf79-35c9d60b37a9",
   "metadata": {},
   "outputs": [
    {
     "name": "stdout",
     "output_type": "stream",
     "text": [
      "Linear Regression\n",
      "Model performance for Training set\n",
      "- Root Mean Squared Error: 553632.7410\n",
      "- Mean Absolute Error: 266075.0012\n",
      "- R2 Score: 0.6221\n",
      "----------------------------------\n",
      "Model performance for Test set\n",
      "- Root Mean Squared Error: 501531.1900\n",
      "- Mean Absolute Error: 276793.0690\n",
      "- R2 Score: 0.6659\n",
      "===================================\n",
      "\n",
      "\n",
      "Lasso\n",
      "Model performance for Training set\n",
      "- Root Mean Squared Error: 553632.7454\n",
      "- Mean Absolute Error: 266072.9124\n",
      "- R2 Score: 0.6221\n",
      "----------------------------------\n",
      "Model performance for Test set\n",
      "- Root Mean Squared Error: 501530.3830\n",
      "- Mean Absolute Error: 276789.4489\n",
      "- R2 Score: 0.6659\n",
      "===================================\n",
      "\n",
      "\n",
      "Ridge\n",
      "Model performance for Training set\n",
      "- Root Mean Squared Error: 553633.4922\n",
      "- Mean Absolute Error: 266036.4605\n",
      "- R2 Score: 0.6221\n",
      "----------------------------------\n",
      "Model performance for Test set\n",
      "- Root Mean Squared Error: 501522.5896\n",
      "- Mean Absolute Error: 276732.2987\n",
      "- R2 Score: 0.6659\n",
      "===================================\n",
      "\n",
      "\n",
      "K-Neighbors Regressor\n",
      "Model performance for Training set\n",
      "- Root Mean Squared Error: 323779.7906\n",
      "- Mean Absolute Error: 87583.9877\n",
      "- R2 Score: 0.8707\n",
      "----------------------------------\n",
      "Model performance for Test set\n",
      "- Root Mean Squared Error: 253971.5215\n",
      "- Mean Absolute Error: 106569.5508\n",
      "- R2 Score: 0.9143\n",
      "===================================\n",
      "\n",
      "\n",
      "Decision Tree\n",
      "Model performance for Training set\n",
      "- Root Mean Squared Error: 20797.2352\n",
      "- Mean Absolute Error: 5164.8199\n",
      "- R2 Score: 0.9995\n",
      "----------------------------------\n",
      "Model performance for Test set\n",
      "- Root Mean Squared Error: 306467.3240\n",
      "- Mean Absolute Error: 124902.6570\n",
      "- R2 Score: 0.8752\n",
      "===================================\n",
      "\n",
      "\n",
      "Random Forest Regressor\n",
      "Model performance for Training set\n",
      "- Root Mean Squared Error: 128073.1392\n",
      "- Mean Absolute Error: 40100.4455\n",
      "- R2 Score: 0.9798\n",
      "----------------------------------\n",
      "Model performance for Test set\n",
      "- Root Mean Squared Error: 220168.3062\n",
      "- Mean Absolute Error: 100613.3513\n",
      "- R2 Score: 0.9356\n",
      "===================================\n",
      "\n",
      "\n"
     ]
    }
   ],
   "source": [
    "## Beginning Model Training\n",
    "models = {\n",
    "    \"Linear Regression\": LinearRegression(),\n",
    "    \"Lasso\": Lasso(),\n",
    "    \"Ridge\": Ridge(),\n",
    "    \"K-Neighbors Regressor\": KNeighborsRegressor(),\n",
    "    \"Decision Tree\": DecisionTreeRegressor(),\n",
    "    \"Random Forest Regressor\": RandomForestRegressor(),\n",
    "   \n",
    "}\n",
    "\n",
    "for i in range(len(list(models))):\n",
    "    model = list(models.values())[i]\n",
    "    model.fit(X_train, y_train) # Train model\n",
    "\n",
    "    # Make predictions\n",
    "    y_train_pred = model.predict(X_train)\n",
    "    y_test_pred = model.predict(X_test)\n",
    "    \n",
    "    # Evaluate Train and Test dataset\n",
    "    model_train_mae , model_train_rmse, model_train_r2 = evaluate_model(y_train, y_train_pred)\n",
    "\n",
    "    model_test_mae , model_test_rmse, model_test_r2 = evaluate_model(y_test, y_test_pred)\n",
    "\n",
    "    \n",
    "    print(list(models.keys())[i])\n",
    "    \n",
    "    print('Model performance for Training set')\n",
    "    print(\"- Root Mean Squared Error: {:.4f}\".format(model_train_rmse))\n",
    "    print(\"- Mean Absolute Error: {:.4f}\".format(model_train_mae))\n",
    "    print(\"- R2 Score: {:.4f}\".format(model_train_r2))\n",
    "\n",
    "    print('----------------------------------')\n",
    "    \n",
    "    print('Model performance for Test set')\n",
    "    print(\"- Root Mean Squared Error: {:.4f}\".format(model_test_rmse))\n",
    "    print(\"- Mean Absolute Error: {:.4f}\".format(model_test_mae))\n",
    "    print(\"- R2 Score: {:.4f}\".format(model_test_r2))\n",
    "    \n",
    "    print('='*35)\n",
    "    print('\\n')"
   ]
  },
  {
   "cell_type": "code",
   "execution_count": 33,
   "id": "97f06076-426d-4aec-ae2b-02ca24b2c529",
   "metadata": {},
   "outputs": [],
   "source": [
    "#Initialize few parameter for Hyperparamter tuning\n",
    "knn_params = {\"n_neighbors\": [2, 3, 10, 20, 40, 50]}\n",
    "rf_params = {\"max_depth\": [5, 8, 15, None, 10],\n",
    "             \"max_features\": [5, 7, \"auto\", 8],\n",
    "             \"min_samples_split\": [2, 8, 15, 20],\n",
    "             \"n_estimators\": [100, 200, 500, 1000]}"
   ]
  },
  {
   "cell_type": "code",
   "execution_count": 34,
   "id": "a85f147e-7c9b-46d2-a55f-8e808644e451",
   "metadata": {},
   "outputs": [],
   "source": [
    "# Models list for Hyperparameter tuning\n",
    "randomcv_models = [('KNN', KNeighborsRegressor(), knn_params),\n",
    "                   (\"RF\", RandomForestRegressor(), rf_params)\n",
    "                   \n",
    "                   ]"
   ]
  },
  {
   "cell_type": "code",
   "execution_count": 36,
   "id": "90b1219b-1076-44d2-ad7e-0cb9db2319af",
   "metadata": {},
   "outputs": [
    {
     "name": "stderr",
     "output_type": "stream",
     "text": [
      "C:\\Users\\nage\\develop\\random forest\\env\\Lib\\site-packages\\sklearn\\model_selection\\_search.py:320: UserWarning: The total space of parameters 6 is smaller than n_iter=100. Running 6 iterations. For exhaustive searches, use GridSearchCV.\n",
      "  warnings.warn(\n"
     ]
    },
    {
     "name": "stdout",
     "output_type": "stream",
     "text": [
      "Fitting 3 folds for each of 6 candidates, totalling 18 fits\n",
      "Fitting 3 folds for each of 100 candidates, totalling 300 fits\n"
     ]
    },
    {
     "name": "stderr",
     "output_type": "stream",
     "text": [
      "C:\\Users\\nage\\develop\\random forest\\env\\Lib\\site-packages\\sklearn\\model_selection\\_validation.py:540: FitFailedWarning: \n",
      "69 fits failed out of a total of 300.\n",
      "The score on these train-test partitions for these parameters will be set to nan.\n",
      "If these failures are not expected, you can try to debug them by setting error_score='raise'.\n",
      "\n",
      "Below are more details about the failures:\n",
      "--------------------------------------------------------------------------------\n",
      "34 fits failed with the following error:\n",
      "Traceback (most recent call last):\n",
      "  File \"C:\\Users\\nage\\develop\\random forest\\env\\Lib\\site-packages\\sklearn\\model_selection\\_validation.py\", line 888, in _fit_and_score\n",
      "    estimator.fit(X_train, y_train, **fit_params)\n",
      "  File \"C:\\Users\\nage\\develop\\random forest\\env\\Lib\\site-packages\\sklearn\\base.py\", line 1466, in wrapper\n",
      "    estimator._validate_params()\n",
      "  File \"C:\\Users\\nage\\develop\\random forest\\env\\Lib\\site-packages\\sklearn\\base.py\", line 666, in _validate_params\n",
      "    validate_parameter_constraints(\n",
      "  File \"C:\\Users\\nage\\develop\\random forest\\env\\Lib\\site-packages\\sklearn\\utils\\_param_validation.py\", line 95, in validate_parameter_constraints\n",
      "    raise InvalidParameterError(\n",
      "sklearn.utils._param_validation.InvalidParameterError: The 'max_features' parameter of RandomForestRegressor must be an int in the range [1, inf), a float in the range (0.0, 1.0], a str among {'log2', 'sqrt'} or None. Got 'auto' instead.\n",
      "\n",
      "--------------------------------------------------------------------------------\n",
      "35 fits failed with the following error:\n",
      "Traceback (most recent call last):\n",
      "  File \"C:\\Users\\nage\\develop\\random forest\\env\\Lib\\site-packages\\sklearn\\model_selection\\_validation.py\", line 888, in _fit_and_score\n",
      "    estimator.fit(X_train, y_train, **fit_params)\n",
      "  File \"C:\\Users\\nage\\develop\\random forest\\env\\Lib\\site-packages\\sklearn\\base.py\", line 1466, in wrapper\n",
      "    estimator._validate_params()\n",
      "  File \"C:\\Users\\nage\\develop\\random forest\\env\\Lib\\site-packages\\sklearn\\base.py\", line 666, in _validate_params\n",
      "    validate_parameter_constraints(\n",
      "  File \"C:\\Users\\nage\\develop\\random forest\\env\\Lib\\site-packages\\sklearn\\utils\\_param_validation.py\", line 95, in validate_parameter_constraints\n",
      "    raise InvalidParameterError(\n",
      "sklearn.utils._param_validation.InvalidParameterError: The 'max_features' parameter of RandomForestRegressor must be an int in the range [1, inf), a float in the range (0.0, 1.0], a str among {'sqrt', 'log2'} or None. Got 'auto' instead.\n",
      "\n",
      "  warnings.warn(some_fits_failed_message, FitFailedWarning)\n",
      "C:\\Users\\nage\\develop\\random forest\\env\\Lib\\site-packages\\sklearn\\model_selection\\_search.py:1103: UserWarning: One or more of the test scores are non-finite: [       nan 0.85513027 0.84843954 0.83537741 0.83118184 0.83700162\n",
      " 0.85090264        nan 0.84573005        nan 0.78712581 0.82819915\n",
      " 0.83122974 0.84310648 0.84345977 0.84504493 0.8325023  0.85434602\n",
      " 0.82182766 0.83942738 0.83031263 0.84149347 0.83366839 0.83013632\n",
      " 0.84126974 0.83956601 0.79741326        nan 0.84764384 0.7932419\n",
      " 0.82461685 0.84761786 0.85413389        nan        nan 0.79419079\n",
      " 0.78056025        nan        nan 0.82650179        nan 0.83292145\n",
      " 0.83413771 0.78613811 0.83150981        nan 0.83046995 0.83894698\n",
      " 0.84397553 0.85962147 0.84514326 0.76911836        nan 0.84232676\n",
      " 0.8485486  0.84811632 0.79301427 0.77821328        nan 0.85846826\n",
      " 0.83890078        nan 0.84634535        nan 0.83184049 0.84697004\n",
      " 0.79160785 0.83912947 0.84408612 0.86251841        nan 0.85641175\n",
      " 0.84211794 0.85873959        nan 0.83996864 0.84173543        nan\n",
      " 0.83852596        nan 0.79672392        nan 0.85848663 0.84687115\n",
      "        nan 0.83319454 0.82679849 0.83922025 0.82902399 0.82533248\n",
      "        nan 0.79917214        nan 0.84971428 0.78668969 0.76786547\n",
      " 0.84076591 0.83941366        nan 0.8478974 ]\n",
      "  warnings.warn(\n"
     ]
    },
    {
     "name": "stdout",
     "output_type": "stream",
     "text": [
      "---------------- Best Params for KNN -------------------\n",
      "[{'n_neighbors': 3}, np.float64(0.7932659368272382)]\n",
      "---------------- Best Params for RF -------------------\n",
      "[{'n_estimators': 100, 'min_samples_split': 2, 'max_features': 8, 'max_depth': 10}, np.float64(0.8625184074715472)]\n"
     ]
    }
   ],
   "source": [
    "##Hyperparameter Tuning\n",
    "from sklearn.model_selection import RandomizedSearchCV\n",
    "\n",
    "model_param = {}\n",
    "for name, model, params in randomcv_models:\n",
    "    random = RandomizedSearchCV(estimator=model,\n",
    "                                   param_distributions=params,\n",
    "                                   n_iter=100,\n",
    "                                   cv=3,\n",
    "                                   verbose=2,\n",
    "                                   n_jobs=-1)\n",
    "    random.fit(X_train, y_train)\n",
    "    model_param[name] = [random.best_params_, random.best_score_]\n",
    "\n",
    "for model_name in model_param:\n",
    "    print(f\"---------------- Best Params for {model_name} -------------------\")\n",
    "    print(model_param[model_name])"
   ]
  },
  {
   "cell_type": "code",
   "execution_count": 39,
   "id": "9bb7870a-1430-47cb-ab35-cd324b051446",
   "metadata": {},
   "outputs": [
    {
     "name": "stdout",
     "output_type": "stream",
     "text": [
      "Random Forest Regressor\n",
      "Model performance for Training set\n",
      "- Root Mean Squared Error: 167505.6539\n",
      "- Mean Absolute Error: 84528.4216\n",
      "- R2 Score: 0.9654\n",
      "----------------------------------\n",
      "Model performance for Test set\n",
      "- Root Mean Squared Error: 221413.1393\n",
      "- Mean Absolute Error: 106554.4595\n",
      "- R2 Score: 0.9349\n",
      "===================================\n",
      "\n",
      "\n"
     ]
    }
   ],
   "source": [
    "model = RandomForestRegressor(n_estimators= 100, min_samples_split= 2, max_features= 8, max_depth= 10)\n",
    "\n",
    "model.fit(X_train, y_train) # Train model\n",
    "\n",
    "# Make predictions\n",
    "y_train_pred = model.predict(X_train)\n",
    "y_test_pred = model.predict(X_test)\n",
    "\n",
    "model_train_mae , model_train_rmse, model_train_r2 = evaluate_model(y_train, y_train_pred)\n",
    "\n",
    "model_test_mae , model_test_rmse, model_test_r2 = evaluate_model(y_test, y_test_pred)\n",
    "\n",
    "print(list(models.keys())[i])\n",
    "\n",
    "print('Model performance for Training set')\n",
    "print(\"- Root Mean Squared Error: {:.4f}\".format(model_train_rmse))\n",
    "print(\"- Mean Absolute Error: {:.4f}\".format(model_train_mae))\n",
    "print(\"- R2 Score: {:.4f}\".format(model_train_r2))\n",
    "\n",
    "print('----------------------------------')\n",
    "\n",
    "print('Model performance for Test set')\n",
    "print(\"- Root Mean Squared Error: {:.4f}\".format(model_test_rmse))\n",
    "print(\"- Mean Absolute Error: {:.4f}\".format(model_test_mae))\n",
    "print(\"- R2 Score: {:.4f}\".format(model_test_r2))\n",
    "\n",
    "print('='*35)\n",
    "print('\\n')"
   ]
  },
  {
   "cell_type": "code",
   "execution_count": 41,
   "id": "f455be6c-a613-4b64-abaa-a8efac4c0b17",
   "metadata": {},
   "outputs": [],
   "source": [
    "import pickle"
   ]
  },
  {
   "cell_type": "code",
   "execution_count": 42,
   "id": "e8357aba-3542-4641-af66-08f1224dfae6",
   "metadata": {},
   "outputs": [],
   "source": [
    "# Save the ColumnTransformer to a pickle file\n",
    "with open('preprocessor.pkl', 'wb') as file:\n",
    "    pickle.dump(preprocessor, file)"
   ]
  },
  {
   "cell_type": "code",
   "execution_count": 43,
   "id": "0fc7d65b-b7a5-4905-a4e1-f7743b195cb1",
   "metadata": {},
   "outputs": [],
   "source": [
    "# Save the ColumnTransformer to a pickle file\n",
    "with open('label_encoder.pkl', 'wb') as file:\n",
    "    pickle.dump(le, file)"
   ]
  },
  {
   "cell_type": "code",
   "execution_count": 44,
   "id": "063a4d1c-69ac-405b-a8ca-8429b52f295e",
   "metadata": {},
   "outputs": [],
   "source": [
    "# Save the ColumnTransformer to a pickle file\n",
    "with open('model.pkl', 'wb') as file:\n",
    "    pickle.dump(model, file)"
   ]
  },
  {
   "cell_type": "code",
   "execution_count": null,
   "id": "b39f8d25-2884-4131-a75d-6b8bc3c84770",
   "metadata": {},
   "outputs": [],
   "source": []
  }
 ],
 "metadata": {
  "kernelspec": {
   "display_name": "Python 3 (ipykernel)",
   "language": "python",
   "name": "python3"
  },
  "language_info": {
   "codemirror_mode": {
    "name": "ipython",
    "version": 3
   },
   "file_extension": ".py",
   "mimetype": "text/x-python",
   "name": "python",
   "nbconvert_exporter": "python",
   "pygments_lexer": "ipython3",
   "version": "3.12.5"
  }
 },
 "nbformat": 4,
 "nbformat_minor": 5
}
